{
 "cells": [
  {
   "cell_type": "code",
   "execution_count": 2,
   "id": "47efdc04",
   "metadata": {},
   "outputs": [],
   "source": [
    "import subprocess\n",
    "import os\n",
    "import shutil\n",
    "from pathlib import Path\n",
    "import sys\n",
    "from processing import utils as p_utils\n",
    "import contextlib\n",
    "import torch\n",
    "\n",
    "device = \"cuda\" if torch.cuda.is_available() else \"cpu\"\n",
    "\n",
    "root = Path.cwd().parent\n",
    "library = root.parent / \"reward-surfaces\"\n",
    "stash = root / \"stash\"\n",
    "scripts = library / \"scripts\"\n",
    "\n",
    "run_suffix = \"_test\"\n",
    "env_name = \"CartPole-v1\"\n",
    "agent_name = \"SB3_ON\"\n",
    "run_id = \"cartpole\" + run_suffix"
   ]
  },
  {
   "cell_type": "code",
   "execution_count": 16,
   "id": "0cfb338a",
   "metadata": {},
   "outputs": [
    {
     "name": "stdout",
     "output_type": "stream",
     "text": [
      "/home/mattis/.local/share/virtualenvs/reward_landscapes-JbenRfY6/lib/python3.8/site-packages/stable_baselines3/__init__.py\n",
      "False\n",
      "Default hyperparameters for environment (ones being tuned will be overridden):\n",
      "OrderedDict([('batch_size', 256),\n",
      "             ('clip_range', 'lin_0.2'),\n",
      "             ('ent_coef', 0.0),\n",
      "             ('gae_lambda', 0.8),\n",
      "             ('gamma', 0.98),\n",
      "             ('learning_rate', 'lin_0.001'),\n",
      "             ('n_envs', 8),\n",
      "             ('n_epochs', 20),\n",
      "             ('n_steps', 32),\n",
      "             ('n_timesteps', 50000),\n",
      "             ('policy', 'MlpPolicy')])\n",
      "Using 8 environments\n",
      "cpu\n",
      "Log path: /home/mattis/git/sem5/reward_landscapes/stash/cartpole_test/agent/ppo/CartPole-v1_5\n",
      "saved checkpoint 0010000\n",
      "Eval num_timesteps=10000, episode_reward=126.30 +/- 28.32\n",
      "Episode length: 126.30 +/- 28.32\n",
      "New best mean reward!\n",
      "saved checkpoint 0020000\n",
      "Eval num_timesteps=20000, episode_reward=269.36 +/- 48.96\n",
      "Episode length: 269.36 +/- 48.96\n",
      "New best mean reward!\n",
      "saved checkpoint 0030000\n",
      "Eval num_timesteps=30000, episode_reward=470.74 +/- 76.16\n",
      "Episode length: 470.74 +/- 76.16\n",
      "New best mean reward!\n",
      "saved checkpoint 0040000\n",
      "Eval num_timesteps=40000, episode_reward=500.00 +/- 0.00\n",
      "Episode length: 500.00 +/- 0.00\n",
      "New best mean reward!\n",
      "saved checkpoint 0050000\n",
      "Eval num_timesteps=50000, episode_reward=500.00 +/- 0.00\n",
      "Episode length: 500.00 +/- 0.00\n",
      "New best mean reward!\n"
     ]
    }
   ],
   "source": [
    "# Train RL agent\n",
    "script_name = \"train_agent\"\n",
    "args = {\n",
    "    \"save_dir\": stash / run_id / \"agent\",\n",
    "    \"agent_name\": agent_name,\n",
    "    \"env\": env_name,\n",
    "    \"device\": device,\n",
    "    \"hyperparameters\": '{\"ALGO\": \"PPO\", \"n_timesteps\":50000}',\n",
    "}\n",
    "kwargs = {\n",
    "    \"--save_freq\": str(10000),\n",
    "}\n",
    "p_utils.execute(name=script_name, args=args, kwargs=kwargs, cwd=library)"
   ]
  },
  {
   "cell_type": "code",
   "execution_count": 3,
   "id": "727cd3cd",
   "metadata": {},
   "outputs": [
    {
     "name": "stdout",
     "output_type": "stream",
     "text": [
      "/home/mattis/.local/share/virtualenvs/reward_landscapes-JbenRfY6/lib/python3.8/site-packages/stable_baselines3/__init__.py\n",
      "['0010000', '0020000', '0030000', '0040000', '0050000']\n"
     ]
    },
    {
     "name": "stderr",
     "output_type": "stream",
     "text": [
      "  0%|          | 0/5 [00:00<?, ?it/s]"
     ]
    },
    {
     "name": "stdout",
     "output_type": "stream",
     "text": [
      "/home/mattis/.local/share/virtualenvs/reward_landscapes-JbenRfY6/lib/python3.8/site-packages/stable_baselines3/__init__.py/home/mattis/.local/share/virtualenvs/reward_landscapes-JbenRfY6/lib/python3.8/site-packages/stable_baselines3/__init__.py\n",
      "\n",
      "/home/mattis/.local/share/virtualenvs/reward_landscapes-JbenRfY6/lib/python3.8/site-packages/stable_baselines3/__init__.py\n",
      "/home/mattis/.local/share/virtualenvs/reward_landscapes-JbenRfY6/lib/python3.8/site-packages/stable_baselines3/__init__.py\n",
      "/home/mattis/.local/share/virtualenvs/reward_landscapes-JbenRfY6/lib/python3.8/site-packages/stable_baselines3/__init__.py\n",
      "Default hyperparameters for environment (ones being tuned will be overridden):\n",
      "OrderedDict([('batch_size', 256),\n",
      "             ('clip_range', 'lin_0.2'),\n",
      "             ('ent_coef', 0.0),\n",
      "             ('gae_lambda', 0.8),\n",
      "             ('gamma', 0.98),\n",
      "             ('learning_rate', 'lin_0.001'),\n",
      "             ('n_envs', 8),\n",
      "             ('n_epochs', 20),\n",
      "             ('n_steps', 32),\n",
      "             ('n_timesteps', 50000),\n",
      "             ('policy', 'MlpPolicy')])\n",
      "Using 8 environments\n",
      "Default hyperparameters for environment (ones being tuned will be overridden):\n",
      "OrderedDict([('batch_size', 256),\n",
      "             ('clip_range', 'lin_0.2'),\n",
      "             ('ent_coef', 0.0),\n",
      "             ('gae_lambda', 0.8),\n",
      "             ('gamma', 0.98),\n",
      "             ('learning_rate', 'lin_0.001'),\n",
      "             ('n_envs', 8),\n",
      "             ('n_epochs', 20),\n",
      "             ('n_steps', 32),\n",
      "             ('n_timesteps', 50000),\n",
      "             ('policy', 'MlpPolicy')])\n",
      "Using 8 environments\n",
      "Default hyperparameters for environment (ones being tuned will be overridden):\n",
      "OrderedDict([('batch_size', 256),\n",
      "             ('clip_range', 'lin_0.2'),\n",
      "             ('ent_coef', 0.0),\n",
      "             ('gae_lambda', 0.8),\n",
      "             ('gamma', 0.98),\n",
      "             ('learning_rate', 'lin_0.001'),\n",
      "             ('n_envs', 8),\n",
      "             ('n_epochs', 20),\n",
      "             ('n_steps', 32),\n",
      "             ('n_timesteps', 50000),\n",
      "             ('policy', 'MlpPolicy')])\n",
      "Using 8 environments\n",
      "cpu\n",
      "cpu\n",
      "cpu\n",
      "Default hyperparameters for environment (ones being tuned will be overridden):\n",
      "OrderedDict([('batch_size', 256),\n",
      "             ('clip_range', 'lin_0.2'),\n",
      "             ('ent_coef', 0.0),\n",
      "             ('gae_lambda', 0.8),\n",
      "             ('gamma', 0.98),\n",
      "             ('learning_rate', 'lin_0.001'),\n",
      "             ('n_envs', 8),\n",
      "             ('n_epochs', 20),\n",
      "             ('n_steps', 32),\n",
      "             ('n_timesteps', 50000),\n",
      "             ('policy', 'MlpPolicy')])\n",
      "Using 8 environments\n",
      "Default hyperparameters for environment (ones being tuned will be overridden):\n",
      "OrderedDict([('batch_size', 256),\n",
      "             ('clip_range', 'lin_0.2'),\n",
      "             ('ent_coef', 0.0),\n",
      "             ('gae_lambda', 0.8),\n",
      "             ('gamma', 0.98),\n",
      "             ('learning_rate', 'lin_0.001'),\n",
      "             ('n_envs', 8),\n",
      "             ('n_epochs', 20),\n",
      "             ('n_steps', 32),\n",
      "             ('n_timesteps', 50000),\n",
      "             ('policy', 'MlpPolicy')])\n",
      "Using 8 environments\n",
      "cpu\n",
      "cpu\n",
      "Log path: /home/mattis/git/sem5/reward_landscapes/stash/cartpole_test/gradient/ppo/CartPole-v1_1\n",
      "evaluating  0020000\n",
      "computing rollout with 10000 steps, 10000000000000 episodes\n",
      "Log path: /home/mattis/git/sem5/reward_landscapes/stash/cartpole_test/gradient/ppo/CartPole-v1_1\n",
      "Gathering data\n",
      "Log path: /home/mattis/git/sem5/reward_landscapes/stash/cartpole_test/gradient/ppo/CartPole-v1_1\n",
      "Log path: /home/mattis/git/sem5/reward_landscapes/stash/cartpole_test/gradient/ppo/CartPole-v1_1\n",
      "Log path: /home/mattis/git/sem5/reward_landscapes/stash/cartpole_test/gradient/ppo/CartPole-v1_1\n",
      "evaluating  0010000\n",
      "computing rollout with 10000 steps, 10000000000000 episodes\n",
      "evaluating  0040000\n",
      "computing rollout with 10000 steps, 10000000000000 episodes\n",
      "evaluating  0050000\n",
      "computing rollout with 10000 steps, 10000000000000 episodes\n",
      "Gathering data\n",
      "Gathering data\n",
      "Gathering data\n",
      "evaluating  0030000\n",
      "computing rollout with 10000 steps, 10000000000000 episodes\n",
      "Gathering data\n"
     ]
    },
    {
     "name": "stderr",
     "output_type": "stream",
     "text": [
      "/home/mattis/git/sem5/reward-surfaces/reward_surfaces/algorithms/eval_policy_hess.py:281: UserWarning: Creating a tensor from a list of numpy.ndarrays is extremely slow. Please consider converting the list to a single numpy.ndarray with numpy.array() before converting to a tensor. (Triggered internally at ../torch/csrc/utils/tensor_new.cpp:278.)\n",
      "  torch.squeeze(torch.tensor(test_states[0][0:2], device=device), dim=1),\n"
     ]
    },
    {
     "name": "stdout",
     "output_type": "stream",
     "text": [
      "computing batch grad mag\n"
     ]
    },
    {
     "name": "stderr",
     "output_type": "stream",
     "text": [
      "/home/mattis/git/sem5/reward-surfaces/reward_surfaces/algorithms/eval_policy_hess.py:281: UserWarning: Creating a tensor from a list of numpy.ndarrays is extremely slow. Please consider converting the list to a single numpy.ndarray with numpy.array() before converting to a tensor. (Triggered internally at ../torch/csrc/utils/tensor_new.cpp:278.)\n",
      "  torch.squeeze(torch.tensor(test_states[0][0:2], device=device), dim=1),\n"
     ]
    },
    {
     "name": "stdout",
     "output_type": "stream",
     "text": [
      "computing batch grad mag\n"
     ]
    },
    {
     "name": "stderr",
     "output_type": "stream",
     "text": [
      "/home/mattis/git/sem5/reward-surfaces/reward_surfaces/algorithms/eval_policy_hess.py:281: UserWarning: Creating a tensor from a list of numpy.ndarrays is extremely slow. Please consider converting the list to a single numpy.ndarray with numpy.array() before converting to a tensor. (Triggered internally at ../torch/csrc/utils/tensor_new.cpp:278.)\n",
      "  torch.squeeze(torch.tensor(test_states[0][0:2], device=device), dim=1),\n",
      "/home/mattis/git/sem5/reward-surfaces/reward_surfaces/algorithms/eval_policy_hess.py:281: UserWarning: Creating a tensor from a list of numpy.ndarrays is extremely slow. Please consider converting the list to a single numpy.ndarray with numpy.array() before converting to a tensor. (Triggered internally at ../torch/csrc/utils/tensor_new.cpp:278.)\n",
      "  torch.squeeze(torch.tensor(test_states[0][0:2], device=device), dim=1),\n",
      "/home/mattis/git/sem5/reward-surfaces/reward_surfaces/algorithms/eval_policy_hess.py:281: UserWarning: Creating a tensor from a list of numpy.ndarrays is extremely slow. Please consider converting the list to a single numpy.ndarray with numpy.array() before converting to a tensor. (Triggered internally at ../torch/csrc/utils/tensor_new.cpp:278.)\n",
      "  torch.squeeze(torch.tensor(test_states[0][0:2], device=device), dim=1),\n"
     ]
    },
    {
     "name": "stdout",
     "output_type": "stream",
     "text": [
      "computing batch grad mag\n",
      "computing batch grad mag\n",
      "computing batch grad mag\n",
      "Number of episodes: 83\n",
      "dumping results\n",
      "Number of episodes: 20\n",
      "dumping results\n",
      "Number of episodes: 20\n",
      "dumping results\n",
      "Number of episodes: 39\n",
      "dumping results\n",
      "Number of episodes: 21\n",
      "dumping results\n"
     ]
    },
    {
     "name": "stderr",
     "output_type": "stream",
     "text": [
      " 80%|████████  | 4/5 [00:51<00:12, 12.91s/it]\n"
     ]
    }
   ],
   "source": [
    "# Define gradient eval jobs\n",
    "script_name = \"generate_eval_jobs\"\n",
    "args = {\n",
    "    \"train_dir\": stash / run_id / \"agent\",\n",
    "    \"out_dir\": stash / run_id / \"gradient\",\n",
    "}\n",
    "kwargs = {\n",
    "    \"--batch-grad\": None,\n",
    "    \"--num-steps\": str(10000),\n",
    "    # \"--num-episodes\":str(10000000000000),\n",
    "    \"--device\": device,\n",
    "}\n",
    "shutil.rmtree(stash / run_id / \"gradient\")\n",
    "p_utils.execute(name=script_name, args=args, kwargs=kwargs, cwd=library)\n",
    "\n",
    "# Evaluate gradient direction\n",
    "script_name = \"run_jobs_multiproc\"\n",
    "args = {\n",
    "    \"job_dir\": stash / run_id / \"gradient\" / \"jobs.sh\",\n",
    "}\n",
    "kwargs = {\"--num-cpus\": str(7)}\n",
    "p_utils.execute(name=script_name, args=args, kwargs=kwargs, cwd=library)"
   ]
  },
  {
   "cell_type": "code",
   "execution_count": 3,
   "id": "31958970",
   "metadata": {},
   "outputs": [
    {
     "name": "stderr",
     "output_type": "stream",
     "text": [
      "0it [00:00, ?it/s]\n"
     ]
    },
    {
     "name": "stdout",
     "output_type": "stream",
     "text": [
      "/home/mattis/.local/share/virtualenvs/reward_landscapes-JbenRfY6/lib/python3.8/site-packages/stable_baselines3/__init__.py\n"
     ]
    },
    {
     "name": "stderr",
     "output_type": "stream",
     "text": [
      "Traceback (most recent call last):\n",
      "  File \"/home/mattis/.pyenv/versions/3.8.20/lib/python3.8/runpy.py\", line 194, in _run_module_as_main\n",
      "    return _run_code(code, main_globals, None,\n",
      "  File \"/home/mattis/.pyenv/versions/3.8.20/lib/python3.8/runpy.py\", line 87, in _run_code\n",
      "    exec(code, run_globals)\n",
      "  File \"/home/mattis/git/sem5/reward-surfaces/scripts/job_results_to_csv.py\", line 15, in <module>\n",
      "    main()\n",
      "  File \"/home/mattis/git/sem5/reward-surfaces/scripts/job_results_to_csv.py\", line 11, in main\n",
      "    job_results_to_csv(args.job_dir)\n",
      "  File \"/home/mattis/git/sem5/reward-surfaces/reward_surfaces/utils/job_results_to_csv.py\", line 12, in job_results_to_csv\n",
      "    keys = list(json.load(open(results_dir / results_fnames[0])).keys())\n",
      "IndexError: list index out of range\n"
     ]
    }
   ],
   "source": [
    "# Define line jobs\n",
    "script_name = \"eval_line_segment\"\n",
    "args = {\n",
    "    \"agent_dir\": stash / run_id / \"agent\",\n",
    "    \"in_dir\": stash / run_id / \"gradient\",\n",
    "    \"out_dir\": stash / run_id / \"line\",\n",
    "}\n",
    "kwargs = {\n",
    "    \"--num-episodes\":str(100),\n",
    "    \"--length\":str(20),\n",
    "    \"--max-magnitude\":str(0.4),\n",
    "    \"--device\":device,\n",
    "    \"--scale-dir\":None\n",
    "}\n",
    "shutil.rmtree(stash / run_id / \"line\")\n",
    "p_utils.execute(name=script_name, args=args, kwargs=kwargs, cwd=library)\n",
    "\n",
    "# Evaluate plane directions\n",
    "script_name = \"run_jobs_multiproc\"\n",
    "args = {\n",
    "    \"job_dir\": stash / run_id / \"line\" / \"jobs.sh\"\n",
    "}\n",
    "kwargs = {\"--num-cpus\": str(7)}\n",
    "p_utils.execute(name=script_name, args=args, kwargs=kwargs, cwd=library)\n",
    "\n",
    "# Copy surface results to csv\n",
    "script_name = \"job_results_to_csv\"\n",
    "args = {\n",
    "    \"out_dir\": stash / run_id / \"line\",\n",
    "}\n",
    "kwargs = {}\n",
    "p_utils.execute(name=script_name, args=args, kwargs=kwargs, cwd=library)"
   ]
  },
  {
   "cell_type": "code",
   "execution_count": null,
   "id": "44c26454",
   "metadata": {},
   "outputs": [],
   "source": [
    "# Plot gradient lines\n",
    "script_name = \"plot_eval_line_segement\"\n",
    "args = {\n",
    "    \"in_dir\": stash / run_id / \"line\" / \"results.csv\",\n",
    "}\n",
    "kwargs = {\n",
    "    \"--outname\": \"cartpole__lines.png\",\n",
    "}\n",
    "p_utils.execute(name=script_name, args=args, kwargs=kwargs, cwd=library)"
   ]
  },
  {
   "cell_type": "code",
   "execution_count": null,
   "id": "72ef6004",
   "metadata": {},
   "outputs": [],
   "source": [
    "# Define plane jobs\n",
    "script_name = \"generate_plane_jobs\"\n",
    "args = {\n",
    "    \"agent_dir\": stash / run_id / \"agent\" / \"best\",\n",
    "    \"out_dir\": stash / run_id / \"surface\",\n",
    "}\n",
    "kwargs = {\n",
    "    \"--grid-size\": str(7), # str(31)\n",
    "    \"--magnitude\": str(1.0),\n",
    "    \"--num-steps\": str(50000), # str(200000)\n",
    "    \"--device\": device\n",
    "}\n",
    "shutil.rmtree(stash / run_id / \"surface\")\n",
    "p_utils.execute(name=script_name, args=args, kwargs=kwargs, cwd=library)\n",
    "\n",
    "# Evaluate plane directions\n",
    "script_name = \"run_jobs_multiproc\"\n",
    "args = {\n",
    "    \"job_dir\": stash / run_id / \"surface\" / \"jobs.sh\",\n",
    "}\n",
    "kwargs = {\"--num-cpus\": str(6)}\n",
    "p_utils.execute(name=script_name, args=args, kwargs=kwargs, cwd=library)\n",
    "\n",
    "# Copy surface results to csv\n",
    "script_name = \"job_results_to_csv\"\n",
    "args = {\n",
    "    \"out_dir\": stash / run_id / \"surface\",\n",
    "}\n",
    "kwargs = {}\n",
    "p_utils.execute(name=script_name, args=args, kwargs=kwargs, cwd=library)"
   ]
  },
  {
   "cell_type": "code",
   "execution_count": 29,
   "id": "63a3800d",
   "metadata": {},
   "outputs": [
    {
     "name": "stdout",
     "output_type": "stream",
     "text": [
      "/home/mattis/.local/share/virtualenvs/reward_landscapes-JbenRfY6/lib/python3.8/site-packages/stable_baselines3/__init__.py\n",
      "3.7.5\n"
     ]
    }
   ],
   "source": [
    "import matplotlib\n",
    "# Plot reward surface\n",
    "script_name = \"plot_plane\"\n",
    "args = {\n",
    "    \"in_dir\": stash / run_id / \"surface\" / \"results.csv\",\n",
    "}\n",
    "kwargs = {\n",
    "    \"--outname\": stash / run_id / run_id,\n",
    "    \"--env_name\": \"Cartpole\" # \"CartPole-v1\",\n",
    "    # \"--key\": \"episode_rewards\"\n",
    "    # \"--type\": \"mesh\", # [\"all\", \"mesh\", \"vtp\", \"heat\", \"contour\",  \"contourf\"]\n",
    "}\n",
    "p_utils.execute(name=script_name, args=args, kwargs=kwargs, cwd=library)\n",
    "print(matplotlib.__version__)"
   ]
  },
  {
   "cell_type": "code",
   "execution_count": 39,
   "id": "783b8018",
   "metadata": {},
   "outputs": [
    {
     "name": "stdout",
     "output_type": "stream",
     "text": [
      "[[2.69897    2.69897    2.69897    2.69897    2.69897    2.69897\n",
      "  2.69897   ]\n",
      " [2.69727251 2.69897    2.69897    2.69897    2.69897    2.69897\n",
      "  2.69897   ]\n",
      " [2.69897    2.69897    2.69897    2.69897    2.69897    2.69897\n",
      "  2.69897   ]\n",
      " [2.69897    2.69897    2.69897    2.69897    2.69897    2.69897\n",
      "  2.69897   ]\n",
      " [2.69227654 2.69897    2.69897    2.69897    2.69897    2.69897\n",
      "  2.69897   ]\n",
      " [2.69382175 2.6958976  2.69897    2.69897    2.69897    2.69897\n",
      "  2.69781609]\n",
      " [2.6664053  2.67120746 2.68800489 2.69897    2.69897    2.69897\n",
      "  2.64760797]]\n"
     ]
    },
    {
     "data": {
      "text/plain": [
       "<mpl_toolkits.mplot3d.art3d.Poly3DCollection at 0x74849040fdc0>"
      ]
     },
     "execution_count": 39,
     "metadata": {},
     "output_type": "execute_result"
    },
    {
     "data": {
      "image/png": "[encoded data removed]",
      "text/plain": [
       "<Figure size 640x480 with 1 Axes>"
      ]
     },
     "metadata": {},
     "output_type": "display_data"
    }
   ],
   "source": [
    "import pandas as pd\n",
    "from reward_surfaces import plotting\n",
    "import matplotlib.pyplot as plt\n",
    "import numpy as np\n",
    "import matplotlib.cm as cm\n",
    "import plotly.graph_objects as go\n",
    "import pickle\n",
    "# plotting.plot_plane()\n",
    "data = pd.read_csv(stash / run_id / \"surface\" / \"results.csv\")\n",
    "# data\n",
    "x,y,z = data[\"dim0\"], data[\"dim1\"], data[\"episode_rewards\"]\n",
    "n = np.floor(np.sqrt(len(x))).astype(int)\n",
    "\n",
    "# X = np.reshape(x[:n**2], (n,n))\n",
    "# Y = np.reshape(y[:n**2], (n,n))\n",
    "# Z = np.reshape(z[:n**2], (n,n))\n",
    "X = pickle.load(open(\"/home/mattis/git/sem5/reward_landscapes/test_X.pkl\", \"rb\"))\n",
    "Y = pickle.load(open(\"/home/mattis/git/sem5/reward_landscapes/test_Y.pkl\", \"rb\"))\n",
    "Z = pickle.load(open(\"/home/mattis/git/sem5/reward_landscapes/test_Z.pkl\", \"rb\"))\n",
    "print(Z)\n",
    "# fig = go.Figure(data=[go.Surface(x=X, y=Y, z=Z)])\n",
    "# # fig.show()\n",
    "# fig.show(figsize=(4,4))\n",
    "\n",
    "fig, ax = plt.subplots(subplot_kw={\"projection\": \"3d\"})\n",
    "ax.plot_surface(X,Y,Z, cmap=cm.coolwarm)\n"
   ]
  }
 ],
 "metadata": {
  "kernelspec": {
   "display_name": "reward_landscapes-JbenRfY6",
   "language": "python",
   "name": "python3"
  },
  "language_info": {
   "codemirror_mode": {
    "name": "ipython",
    "version": 3
   },
   "file_extension": ".py",
   "mimetype": "text/x-python",
   "name": "python",
   "nbconvert_exporter": "python",
   "pygments_lexer": "ipython3",
   "version": "3.8.20"
  }
 },
 "nbformat": 4,
 "nbformat_minor": 5
}
